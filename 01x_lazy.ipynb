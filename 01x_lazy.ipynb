{
  "nbformat": 4,
  "nbformat_minor": 0,
  "metadata": {
    "anaconda-cloud": {},
    "kernelspec": {
      "display_name": "Python 3",
      "language": "python",
      "name": "python3"
    },
    "language_info": {
      "codemirror_mode": {
        "name": "ipython",
        "version": 3
      },
      "file_extension": ".py",
      "mimetype": "text/x-python",
      "name": "python",
      "nbconvert_exporter": "python",
      "pygments_lexer": "ipython3",
      "version": "3.7.6"
    },
    "colab": {
      "name": "01x_lazy.ipynb",
      "provenance": [],
      "toc_visible": true,
      "include_colab_link": true
    }
  },
  "cells": [
    {
      "cell_type": "markdown",
      "metadata": {
        "id": "view-in-github",
        "colab_type": "text"
      },
      "source": [
        "<a href=\"https://colab.research.google.com/github/agrezende/dask-tutorial/blob/develop/01x_lazy.ipynb\" target=\"_parent\"><img src=\"https://colab.research.google.com/assets/colab-badge.svg\" alt=\"Open In Colab\"/></a>"
      ]
    },
    {
      "cell_type": "markdown",
      "metadata": {
        "id": "6-8IwHeG4Fir"
      },
      "source": [
        "<img src=\"https://github.com/agrezende/dask-tutorial/blob/develop/images/dask_horizontal.svg?raw=1\" align=\"right\" width=\"30%\">"
      ]
    },
    {
      "cell_type": "markdown",
      "metadata": {
        "id": "75QUA9hv4Fix"
      },
      "source": [
        "# Lazy execution"
      ]
    },
    {
      "cell_type": "markdown",
      "metadata": {
        "id": "rUjO3nrV4Fiy"
      },
      "source": [
        "Here we discuss some of the concepts behind dask, and lazy execution of code. You do not need to go through this material if you are eager to get on with the tutorial, but it may help understand the concepts underlying dask, how these things fit in with techniques you might already be using, and how to understand things that can go wrong."
      ]
    },
    {
      "cell_type": "markdown",
      "metadata": {
        "id": "MkQxcz774Fiy"
      },
      "source": [
        "## Prelude"
      ]
    },
    {
      "cell_type": "markdown",
      "metadata": {
        "id": "z-UulW2S4Fiz"
      },
      "source": [
        "As Python programmers, you probably already perform certain *tricks* to enable computation of larger-than-memory datasets, parallel execution or delayed/background execution. Perhaps with this phrasing, it is not clear what we mean, but a few examples should make things clearer. The point of Dask is to make simple things easy and complex things possible!\n",
        "\n",
        "Aside from the [detailed introduction](http://dask.pydata.org/en/latest/), we can summarize the basics of Dask as follows:\n",
        "\n",
        "- process data that doesn't fit into memory by breaking it into blocks and specifying task chains\n",
        "- parallelize execution of tasks across cores and even nodes of a cluster\n",
        "- move computation to the data rather than the other way around, to minimize communication overhead\n",
        "\n",
        "All of this allows you to get the most out of your computation resources, but program in a way that is very familiar: for-loops to build basic tasks, Python iterators, and the NumPy (array) and Pandas (dataframe) functions for multi-dimensional or tabular data, respectively.\n",
        "\n",
        "The remainder of this notebook will take you through the first of these programming paradigms. This is more detail than some users will want, who can skip ahead to the iterator, array and dataframe sections; but there will be some data processing tasks that don't easily fit into those abstractions and need to fall back to the methods here.\n",
        "\n",
        "We include a few examples at the end of the notebooks showing that the ideas behind how Dask is built are not actually that novel, and experienced programmers will have met parts of the design in other situations before. Those examples are left for the interested."
      ]
    },
    {
      "cell_type": "markdown",
      "metadata": {
        "id": "0aaZWIfc4Fiz"
      },
      "source": [
        "## Dask is a graph execution engine"
      ]
    },
    {
      "cell_type": "markdown",
      "metadata": {
        "id": "QDkcaCzH4Fi0"
      },
      "source": [
        "Dask allows you to construct a prescription for the calculation you want to carry out. That may sound strange, but a simple example will demonstrate that you can achieve this while programming with perfectly ordinary Python functions and for-loops. We saw this in the previous notebook."
      ]
    },
    {
      "cell_type": "code",
      "metadata": {
        "id": "5aWZinrC4Kyg",
        "outputId": "60fa31e7-a08b-4785-8d24-1f342f962d53",
        "colab": {
          "base_uri": "https://localhost:8080/"
        }
      },
      "source": [
        "# Devido a varios erros encontrados, eh necessario realizar o upgrade de versao do pacotes:\r\n",
        "# dask, distributed\r\n",
        "# distributed==1.25.3\r\n",
        "# cloudpickle (sera atualizado como dependencia)\r\n",
        "# Em 16/03/2021:\r\n",
        "# < cloudpickle==1.3.0\r\n",
        "# > cloudpickle==1.6.0\r\n",
        "# < dask==2.12.0\r\n",
        "# > dask==2021.3.0\r\n",
        "# < distributed==1.25.3\r\n",
        "# > distributed==2021.3.0\r\n",
        "\r\n",
        "!pip freeze > antes.txt\r\n",
        "!pip install dask distributed --upgrade\r\n",
        "!pip freeze > depois.txt\r\n",
        "!echo Alteracoes:\r\n",
        "# !diff antes.txt depois.txt && echo a || echo b\r\n",
        "!diff --side-by-side --suppress-common-lines antes.txt depois.txt && echo Nao houve alteracoes\r\n",
        "!rm antes.txt depois.txt"
      ],
      "execution_count": 5,
      "outputs": [
        {
          "output_type": "stream",
          "text": [
            "Collecting dask\n",
            "\u001b[?25l  Downloading https://files.pythonhosted.org/packages/2e/86/95faa4a9c1f7fbfa2df2ae9e7e1a11349cb97a81e2f38ff9dda301606882/dask-2021.3.0-py3-none-any.whl (925kB)\n",
            "\u001b[K     |████████████████████████████████| 931kB 4.5MB/s \n",
            "\u001b[?25hCollecting distributed\n",
            "\u001b[?25l  Downloading https://files.pythonhosted.org/packages/96/b7/f58dd1e30f940a8b38de10f5d92b2fce08f38dcba3eb1ddb017260588ed4/distributed-2021.3.0-py3-none-any.whl (675kB)\n",
            "\u001b[K     |████████████████████████████████| 675kB 12.3MB/s \n",
            "\u001b[?25hRequirement already satisfied, skipping upgrade: pyyaml in /usr/local/lib/python3.7/dist-packages (from dask) (3.13)\n",
            "Collecting cloudpickle>=1.5.0\n",
            "  Downloading https://files.pythonhosted.org/packages/e7/e3/898487e5dbeb612054cf2e0c188463acb358167fef749c53c8bb8918cea1/cloudpickle-1.6.0-py3-none-any.whl\n",
            "Requirement already satisfied, skipping upgrade: click>=6.6 in /usr/local/lib/python3.7/dist-packages (from distributed) (7.1.2)\n",
            "Requirement already satisfied, skipping upgrade: msgpack>=0.6.0 in /usr/local/lib/python3.7/dist-packages (from distributed) (1.0.2)\n",
            "Requirement already satisfied, skipping upgrade: sortedcontainers!=2.0.0,!=2.0.1 in /usr/local/lib/python3.7/dist-packages (from distributed) (2.3.0)\n",
            "Requirement already satisfied, skipping upgrade: toolz>=0.8.2 in /usr/local/lib/python3.7/dist-packages (from distributed) (0.11.1)\n",
            "Requirement already satisfied, skipping upgrade: zict>=0.1.3 in /usr/local/lib/python3.7/dist-packages (from distributed) (2.0.0)\n",
            "Requirement already satisfied, skipping upgrade: setuptools in /usr/local/lib/python3.7/dist-packages (from distributed) (54.0.0)\n",
            "Requirement already satisfied, skipping upgrade: tornado>=5; python_version < \"3.8\" in /usr/local/lib/python3.7/dist-packages (from distributed) (5.1.1)\n",
            "Requirement already satisfied, skipping upgrade: psutil>=5.0 in /usr/local/lib/python3.7/dist-packages (from distributed) (5.4.8)\n",
            "Requirement already satisfied, skipping upgrade: tblib>=1.6.0 in /usr/local/lib/python3.7/dist-packages (from distributed) (1.7.0)\n",
            "Requirement already satisfied, skipping upgrade: heapdict in /usr/local/lib/python3.7/dist-packages (from zict>=0.1.3->distributed) (1.0.1)\n",
            "Installing collected packages: dask, cloudpickle, distributed\n",
            "  Found existing installation: dask 2.12.0\n",
            "    Uninstalling dask-2.12.0:\n",
            "      Successfully uninstalled dask-2.12.0\n",
            "  Found existing installation: cloudpickle 1.3.0\n",
            "    Uninstalling cloudpickle-1.3.0:\n",
            "      Successfully uninstalled cloudpickle-1.3.0\n",
            "  Found existing installation: distributed 1.25.3\n",
            "    Uninstalling distributed-1.25.3:\n",
            "      Successfully uninstalled distributed-1.25.3\n",
            "Successfully installed cloudpickle-1.6.0 dask-2021.3.0 distributed-2021.3.0\n",
            "Alteracoes:\n",
            "cloudpickle==1.3.0\t\t\t\t\t      |\tcloudpickle==1.6.0\n",
            "dask==2.12.0\t\t\t\t\t\t      |\tdask==2021.3.0\n",
            "distributed==1.25.3\t\t\t\t\t      |\tdistributed==2021.3.0\n"
          ],
          "name": "stdout"
        }
      ]
    },
    {
      "cell_type": "code",
      "metadata": {
        "id": "BWd26sRa4Fi0"
      },
      "source": [
        "from dask import delayed\n",
        "\n",
        "@delayed\n",
        "def inc(x):\n",
        "    return x + 1\n",
        "\n",
        "@delayed\n",
        "def add(x, y):\n",
        "    return x + y"
      ],
      "execution_count": 6,
      "outputs": []
    },
    {
      "cell_type": "markdown",
      "metadata": {
        "id": "Yk22Lpv64Fi1"
      },
      "source": [
        "Here we have used the delayed annotation to show that we want these functions to operate lazily — to save the set of inputs and execute only on demand. `dask.delayed` is also a function which can do this, without the annotation, leaving the original function unchanged, e.g.,\n",
        "```python\n",
        "    delayed_inc = delayed(inc)\n",
        "```"
      ]
    },
    {
      "cell_type": "code",
      "metadata": {
        "id": "LEiEyX_64Fi1"
      },
      "source": [
        "# this looks like ordinary code\n",
        "x = inc(15)\n",
        "y = inc(30)\n",
        "total = add(x, y)\n",
        "# x, y and total are all delayed objects. \n",
        "# They contain a prescription of how to carry out the computation"
      ],
      "execution_count": 7,
      "outputs": []
    },
    {
      "cell_type": "markdown",
      "metadata": {
        "id": "K4jL76BW4Fi1"
      },
      "source": [
        "Calling a delayed function created a delayed object (`x, y, total`) which can be examined interactively. Making these objects is somewhat equivalent to constructs like the `lambda` or function wrappers (see below). Each holds a simple dictionary describing the task graph, a full specification of how to carry out the computation.\n",
        "\n",
        "We can visualize the chain of calculations that the object `total` corresponds to as follows; the circles are functions, rectangles are data/results."
      ]
    },
    {
      "cell_type": "code",
      "metadata": {
        "id": "DjHZ6CC54Fi2",
        "outputId": "5c5afc93-038c-48d9-89e6-257d68673f4c",
        "colab": {
          "base_uri": "https://localhost:8080/"
        }
      },
      "source": [
        "total.visualize()"
      ],
      "execution_count": 8,
      "outputs": [
        {
          "output_type": "execute_result",
          "data": {
            "image/png": "[encoded data removed]",
            "text/plain": [
              "<IPython.core.display.Image object>"
            ]
          },
          "metadata": {
            "tags": []
          },
          "execution_count": 8
        }
      ]
    },
    {
      "cell_type": "markdown",
      "metadata": {
        "id": "RiMnEoVV4Fi2"
      },
      "source": [
        "But so far, no functions have actually been executed. This demonstrated the division between the graph-creation part of Dask (`delayed()`, in this example) and the graph execution part of Dask.\n",
        "\n",
        "To run the \"graph\" in the visualization, and actually get a result, do:"
      ]
    },
    {
      "cell_type": "code",
      "metadata": {
        "id": "nML0O7i34Fi2",
        "outputId": "280a9789-9f67-4700-9e89-d0f436bda7a3",
        "colab": {
          "base_uri": "https://localhost:8080/"
        }
      },
      "source": [
        "# execute all tasks\n",
        "total.compute()"
      ],
      "execution_count": 9,
      "outputs": [
        {
          "output_type": "execute_result",
          "data": {
            "text/plain": [
              "47"
            ]
          },
          "metadata": {
            "tags": []
          },
          "execution_count": 9
        }
      ]
    },
    {
      "cell_type": "markdown",
      "metadata": {
        "id": "nXy0XKT44Fi2"
      },
      "source": [
        "**Why should you care about this?**\n",
        "\n",
        "By building a specification of the calculation we want to carry out before executing anything, we can pass the specification to an *execution engine* for evaluation. In the case of Dask, this execution engine could be running on many nodes of a cluster, so you have access to the full number of CPU cores and memory across all the machines. Dask will intelligently execute your calculation with care for minimizing the amount of data held in memory, while parallelizing over the tasks that make up a graph. Notice that in the animated diagram below, where four workers are processing the (simple) graph, execution progresses vertically up the branches first, so that intermediate results can be expunged before moving onto a new branch.\n",
        "\n",
        "With `delayed` and normal pythonic looped code, very complex graphs can be built up and passed on to Dask for execution. See a nice example of [simulated complex ETL](https://blog.dask.org/2017/01/24/dask-custom) work flow.\n",
        "\n",
        "![this](https://github.com/agrezende/dask-tutorial/blob/develop/images/grid_search_schedule.gif?raw=1)"
      ]
    },
    {
      "cell_type": "markdown",
      "metadata": {
        "id": "tLwEmiFC4Fi3"
      },
      "source": [
        "### Exercise"
      ]
    },
    {
      "cell_type": "markdown",
      "metadata": {
        "id": "uMEy0LYN4Fi3"
      },
      "source": [
        "We will apply `delayed` to a real data processing task, albeit a simple one.\n",
        "\n",
        "Consider reading three CSV files with `pd.read_csv` and then measuring their total length. We will consider how you would do this with ordinary Python code, then build a graph for this process using delayed, and finally execute this graph using Dask, for a handy speed-up factor of more than two (there are only three inputs to parallelize over)."
      ]
    },
    {
      "cell_type": "code",
      "metadata": {
        "id": "uF3iSn975b6_",
        "outputId": "cfa38641-5cab-447d-e66f-17bff5ca3140",
        "colab": {
          "base_uri": "https://localhost:8080/"
        }
      },
      "source": [
        "import os\r\n",
        "base_dir = '/content'\r\n",
        "git_url = 'https://github.com/agrezende/dask-tutorial.git'\r\n",
        "git_branch = 'develop'\r\n",
        "\r\n",
        "project = git_url.split('/')[-1].split('.')[0]\r\n",
        "\r\n",
        "os.chdir( base_dir )\r\n",
        "!pwd\r\n",
        "!git clone --single-branch --branch $git_branch $git_url\r\n",
        "parent_dir = os.path.join( base_dir, project )\r\n",
        "os.chdir( parent_dir )\r\n",
        "# os.chdir('/content/dask-tutorial')\r\n",
        "!pwd"
      ],
      "execution_count": 1,
      "outputs": [
        {
          "output_type": "stream",
          "text": [
            "/content\n",
            "Cloning into 'dask-tutorial'...\n",
            "remote: Enumerating objects: 56, done.\u001b[K\n",
            "remote: Counting objects: 100% (56/56), done.\u001b[K\n",
            "remote: Compressing objects: 100% (48/48), done.\u001b[K\n",
            "remote: Total 1257 (delta 18), reused 15 (delta 5), pack-reused 1201\u001b[K\n",
            "Receiving objects: 100% (1257/1257), 10.50 MiB | 27.57 MiB/s, done.\n",
            "Resolving deltas: 100% (700/700), done.\n",
            "/content/dask-tutorial\n"
          ],
          "name": "stdout"
        }
      ]
    },
    {
      "cell_type": "code",
      "metadata": {
        "id": "MwcqS7Rq4Fi3",
        "outputId": "a05e9979-cd01-4767-e691-8f3149891fdc",
        "colab": {
          "base_uri": "https://localhost:8080/"
        }
      },
      "source": [
        "%run prep.py -d accounts"
      ],
      "execution_count": 2,
      "outputs": [
        {
          "output_type": "stream",
          "text": [
            "Created CSV acccouts in 5.13s\n",
            "Created JSON acccouts in 45.31s\n"
          ],
          "name": "stdout"
        }
      ]
    },
    {
      "cell_type": "code",
      "metadata": {
        "id": "3MW4WDrv4Fi3",
        "outputId": "ca91cab9-9ad5-4e70-907f-412a9a5e03fd",
        "colab": {
          "base_uri": "https://localhost:8080/"
        }
      },
      "source": [
        "import pandas as pd\n",
        "import os\n",
        "filenames = [os.path.join('data', 'accounts.%d.csv' % i) for i in [0, 1, 2]]\n",
        "filenames"
      ],
      "execution_count": 3,
      "outputs": [
        {
          "output_type": "execute_result",
          "data": {
            "text/plain": [
              "['data/accounts.0.csv', 'data/accounts.1.csv', 'data/accounts.2.csv']"
            ]
          },
          "metadata": {
            "tags": []
          },
          "execution_count": 3
        }
      ]
    },
    {
      "cell_type": "code",
      "metadata": {
        "id": "wAmdp5Hi4Fi4",
        "outputId": "15f22c55-b5ad-4c53-91cc-6f6838dd9616",
        "colab": {
          "base_uri": "https://localhost:8080/"
        }
      },
      "source": [
        "%%time\n",
        "\n",
        "# normal, sequential code\n",
        "a = pd.read_csv(filenames[0])\n",
        "b = pd.read_csv(filenames[1])\n",
        "c = pd.read_csv(filenames[2])\n",
        "\n",
        "na = len(a)\n",
        "nb = len(b)\n",
        "nc = len(c)\n",
        "\n",
        "total = sum([na, nb, nc])\n",
        "print(total)"
      ],
      "execution_count": 4,
      "outputs": [
        {
          "output_type": "stream",
          "text": [
            "3000000\n",
            "CPU times: user 750 ms, sys: 27.9 ms, total: 778 ms\n",
            "Wall time: 784 ms\n"
          ],
          "name": "stdout"
        }
      ]
    },
    {
      "cell_type": "markdown",
      "metadata": {
        "id": "6iWGadRn4Fi4"
      },
      "source": [
        "Your task is to recreate this graph again using the delayed function on the original Python code. The three functions you want to delay are `pd.read_csv`, `len` and `sum`.. "
      ]
    },
    {
      "cell_type": "markdown",
      "metadata": {
        "id": "emCr3pd04Fi4"
      },
      "source": [
        "```python\n",
        "delayed_read_csv = delayed(pd.read_csv)\n",
        "a = delayed_read_csv(filenames[0])\n",
        "...\n",
        "\n",
        "total = ...\n",
        "\n",
        "# execute\n",
        "%time total.compute()   \n",
        "```"
      ]
    },
    {
      "cell_type": "code",
      "metadata": {
        "id": "CIBo5lWE4Fi4",
        "outputId": "81131c68-0ef1-4e7c-c071-86867e4b22e8",
        "colab": {
          "base_uri": "https://localhost:8080/"
        }
      },
      "source": [
        "%%time\r\n",
        "\r\n",
        "# your verbose code here\r\n",
        "\r\n",
        "# normal, sequential code\r\n",
        "a = delayed(pd.read_csv)(filenames[0])\r\n",
        "b = delayed(pd.read_csv)(filenames[1])\r\n",
        "c = delayed(pd.read_csv)(filenames[2])\r\n",
        "\r\n",
        "# Como a carga dos dataframes foi atrasada, ocorre erro no calculo de 'len';\r\n",
        "# por isso, precisa ser atrasado tb.\r\n",
        "na = delayed(len)(a)\r\n",
        "nb = delayed(len)(b)\r\n",
        "nc = delayed(len)(c)\r\n",
        "\r\n",
        "total = sum([na, nb, nc])\r\n",
        "print(total.compute())"
      ],
      "execution_count": 15,
      "outputs": [
        {
          "output_type": "stream",
          "text": [
            "3000000\n",
            "CPU times: user 1.05 s, sys: 20 ms, total: 1.07 s\n",
            "Wall time: 730 ms\n"
          ],
          "name": "stdout"
        }
      ]
    },
    {
      "cell_type": "code",
      "metadata": {
        "id": "OcISLJVFArOA"
      },
      "source": [
        "total.visualize()"
      ],
      "execution_count": null,
      "outputs": []
    },
    {
      "cell_type": "markdown",
      "metadata": {
        "id": "MXTc3Ubw4Fi5"
      },
      "source": [
        "Next, repeat this using loops, rather than writing out all the variables."
      ]
    },
    {
      "cell_type": "code",
      "metadata": {
        "id": "WFni9xzy4Fi5",
        "outputId": "a8636912-5b84-4234-9037-c723bcf7e33e",
        "colab": {
          "base_uri": "https://localhost:8080/"
        }
      },
      "source": [
        "%%time\r\n",
        "\r\n",
        "# your concise code here\r\n",
        "\r\n",
        "# normal, sequential code\r\n",
        "total = 0\r\n",
        "for filename in filenames:\r\n",
        "  a = delayed(pd.read_csv)(filename)\r\n",
        "  na = delayed(len)(a)\r\n",
        "  total = total + na\r\n",
        "\r\n",
        "print(total.compute())"
      ],
      "execution_count": 32,
      "outputs": [
        {
          "output_type": "stream",
          "text": [
            "3000000\n",
            "CPU times: user 1.02 s, sys: 15 ms, total: 1.04 s\n",
            "Wall time: 707 ms\n"
          ],
          "name": "stdout"
        }
      ]
    },
    {
      "cell_type": "code",
      "metadata": {
        "jupyter": {
          "source_hidden": true
        },
        "id": "pVNPzuBh4Fi5",
        "outputId": "0ac505a6-3b27-4641-e785-07196b6437d3",
        "colab": {
          "base_uri": "https://localhost:8080/"
        }
      },
      "source": [
        "## verbose version\n",
        "delayed_read_csv = delayed(pd.read_csv)\n",
        "a = delayed_read_csv(filenames[0])\n",
        "b = delayed_read_csv(filenames[1])\n",
        "c = delayed_read_csv(filenames[2])\n",
        "\n",
        "delayed_len = delayed(len)\n",
        "na = delayed_len(a)\n",
        "nb = delayed_len(b)\n",
        "nc = delayed_len(c)\n",
        "\n",
        "delayed_sum = delayed(sum)\n",
        "\n",
        "total = delayed_sum([na, nb, nc])\n",
        "%time print(total.compute())\n",
        "\n",
        "\n",
        "## concise version\n",
        "csvs = [delayed(pd.read_csv)(fn) for fn in filenames]\n",
        "lens = [delayed(len)(csv) for csv in csvs]\n",
        "total = delayed(sum)(lens)\n",
        "%time print(total.compute())\n"
      ],
      "execution_count": 37,
      "outputs": [
        {
          "output_type": "stream",
          "text": [
            "3000000\n",
            "CPU times: user 1.05 s, sys: 19 ms, total: 1.07 s\n",
            "Wall time: 731 ms\n",
            "3000000\n",
            "CPU times: user 1.03 s, sys: 19.7 ms, total: 1.05 s\n",
            "Wall time: 719 ms\n"
          ],
          "name": "stdout"
        }
      ]
    },
    {
      "cell_type": "markdown",
      "metadata": {
        "id": "8MTATnYF4Fi5"
      },
      "source": [
        "**Notes**\n",
        "\n",
        "Delayed objects support various operations:\n",
        "```python\n",
        "    x2 = x + 1\n",
        "```"
      ]
    },
    {
      "cell_type": "markdown",
      "metadata": {
        "id": "-tGPmuFM4Fi6"
      },
      "source": [
        "if `x` was a delayed result (like `total`, above), then so is `x2`. Supported operations include arithmetic operators, item or slice selection, attribute access and method calls - essentially anything that could be phrased as a `lambda` expression.\n",
        "\n",
        "Operations which are *not* supported include mutation, setter methods, iteration (for) and bool (predicate)."
      ]
    },
    {
      "cell_type": "markdown",
      "metadata": {
        "id": "iKJs_Bs64Fi6"
      },
      "source": [
        "## Appendix: Further detail and examples"
      ]
    },
    {
      "cell_type": "markdown",
      "metadata": {
        "id": "9XCT4DM14Fi6"
      },
      "source": [
        "The following examples show that the kinds of things Dask does are not so far removed from normal Python programming when dealing with big data. These examples are **only meant for experts**, typical users can continue with the next notebook in the tutorial."
      ]
    },
    {
      "cell_type": "markdown",
      "metadata": {
        "id": "xxp16cS44Fi6"
      },
      "source": [
        "### Example 1: simple word count"
      ]
    },
    {
      "cell_type": "markdown",
      "metadata": {
        "id": "FzqxpTFd4Fi7"
      },
      "source": [
        "This directory contains a file called `README.md`. How would you count the number of words in that file?\n",
        "\n",
        "The simplest approach would be to load all the data into memory, split on whitespace and count the number of results. Here we use a regular expression to split words."
      ]
    },
    {
      "cell_type": "code",
      "metadata": {
        "id": "jfaNdSTg4Fi7",
        "outputId": "0c4141f6-bb8c-4f54-dbe0-9763fb440b4c",
        "colab": {
          "base_uri": "https://localhost:8080/"
        }
      },
      "source": [
        "import re\n",
        "splitter = re.compile('\\w+')\n",
        "with open('README.md', 'r') as f:\n",
        "    data = f.read()\n",
        "result = len(splitter.findall(data))\n",
        "result"
      ],
      "execution_count": 38,
      "outputs": [
        {
          "output_type": "execute_result",
          "data": {
            "text/plain": [
              "748"
            ]
          },
          "metadata": {
            "tags": []
          },
          "execution_count": 38
        }
      ]
    },
    {
      "cell_type": "markdown",
      "metadata": {
        "id": "GUjZvqXi4Fi7"
      },
      "source": [
        "The trouble with this approach is that it does not scale - if the file is very large, it, and the generated list of words, might fill up memory. We can easily avoid that, because we only need a simple sum, and each line is totally independent of the others. Now we evaluate each piece of data and immediately free up the space again, so we could perform this on arbitrarily-large files. Note that there is often a trade-off between time-efficiency and memory footprint: the following uses very little memory, but may be slower for files that do not fill a large faction of memory. In general, one would like chunks small enough not to stress memory, but big enough for efficient use of the CPU."
      ]
    },
    {
      "cell_type": "code",
      "metadata": {
        "id": "GSZ_U1ht4Fi7",
        "outputId": "51c3129e-2a1e-48fe-f11e-c30fa710c429",
        "colab": {
          "base_uri": "https://localhost:8080/"
        }
      },
      "source": [
        "result = 0\n",
        "with open('README.md', 'r') as f:\n",
        "    for line in f:\n",
        "        result += len(splitter.findall(line))\n",
        "result"
      ],
      "execution_count": 39,
      "outputs": [
        {
          "output_type": "execute_result",
          "data": {
            "text/plain": [
              "748"
            ]
          },
          "metadata": {
            "tags": []
          },
          "execution_count": 39
        }
      ]
    },
    {
      "cell_type": "markdown",
      "metadata": {
        "id": "ZkRYbR_44Fi8"
      },
      "source": [
        "### Example 2: background execution"
      ]
    },
    {
      "cell_type": "markdown",
      "metadata": {
        "id": "6Lqx7wu64Fi8"
      },
      "source": [
        "There are many tasks that take a while to complete, but don't actually require much of the CPU, for example anything that requires communication over a network, or input from a user. In typical sequential programming, execution would need to halt while the process completes, and then continue execution. That would be dreadful for user experience (imagine the slow progress bar that locks up the application and cannot be canceled), and wasteful of time (the CPU could have been doing useful work in the meantime).\n",
        "\n",
        "For example, we can launch processes and get their output as follows:\n",
        "```python\n",
        "    import subprocess\n",
        "    p = subprocess.Popen(command, stdout=subprocess.PIPE)\n",
        "    p.returncode\n",
        "```"
      ]
    },
    {
      "cell_type": "markdown",
      "metadata": {
        "id": "WZkVBYzq4Fi8"
      },
      "source": [
        "The task is run in a separate process, and the return-code will remain `None` until it completes, when it will change to `0`. To get the result back, we need `out = p.communicate()[0]` (which would block if the process was not complete)."
      ]
    },
    {
      "cell_type": "markdown",
      "metadata": {
        "id": "loVtKudz4Fi9"
      },
      "source": [
        "Similarly, we can launch Python processes and threads in the background. Some methods allow mapping over multiple inputs and gathering the results, more on that later.  The thread starts and the cell completes immediately, but the data associated with the download only appears in the queue object some time later."
      ]
    },
    {
      "cell_type": "code",
      "metadata": {
        "id": "4sEm8UxJ4Fi9",
        "outputId": "4b0c3fea-99c8-4210-befd-bd0de667c219",
        "colab": {
          "base_uri": "https://localhost:8080/",
          "height": 35
        }
      },
      "source": [
        "# Edit sources.py to configure source locations\n",
        "import sources\n",
        "sources.lazy_url"
      ],
      "execution_count": 45,
      "outputs": [
        {
          "output_type": "execute_result",
          "data": {
            "application/vnd.google.colaboratory.intrinsic+json": {
              "type": "string"
            },
            "text/plain": [
              "'http://www.google.com'"
            ]
          },
          "metadata": {
            "tags": []
          },
          "execution_count": 45
        }
      ]
    },
    {
      "cell_type": "code",
      "metadata": {
        "id": "-jT-lZdz4Fi9"
      },
      "source": [
        "import threading\n",
        "import queue\n",
        "import urllib\n",
        "\n",
        "def get_webdata(url, q):\n",
        "    u = urllib.request.urlopen(url)\n",
        "    raise ValueError\n",
        "    q.put(u.read())\n",
        "\n",
        "q = queue.Queue()\n",
        "t = threading.Thread(target=get_webdata, args=(sources.lazy_url, q))\n",
        "t.start()"
      ],
      "execution_count": 46,
      "outputs": []
    },
    {
      "cell_type": "code",
      "metadata": {
        "id": "OvRfuGge4Fi9",
        "outputId": "b6a1358f-9379-495a-8007-f80d07b3bc4f",
        "colab": {
          "base_uri": "https://localhost:8080/",
          "height": 323
        }
      },
      "source": [
        "# fetch result back into this thread. If the worker thread is not done, this would wait.\n",
        "q.get()"
      ],
      "execution_count": 47,
      "outputs": [
        {
          "output_type": "error",
          "ename": "KeyboardInterrupt",
          "evalue": "ignored",
          "traceback": [
            "\u001b[0;31m---------------------------------------------------------------------------\u001b[0m",
            "\u001b[0;31mKeyboardInterrupt\u001b[0m                         Traceback (most recent call last)",
            "\u001b[0;32m<ipython-input-47-0a4a489a6dc7>\u001b[0m in \u001b[0;36m<module>\u001b[0;34m()\u001b[0m\n\u001b[1;32m      1\u001b[0m \u001b[0;31m# fetch result back into this thread. If the worker thread is not done, this would wait.\u001b[0m\u001b[0;34m\u001b[0m\u001b[0;34m\u001b[0m\u001b[0;34m\u001b[0m\u001b[0m\n\u001b[0;32m----> 2\u001b[0;31m \u001b[0mq\u001b[0m\u001b[0;34m.\u001b[0m\u001b[0mget\u001b[0m\u001b[0;34m(\u001b[0m\u001b[0;34m)\u001b[0m\u001b[0;34m\u001b[0m\u001b[0;34m\u001b[0m\u001b[0m\n\u001b[0m",
            "\u001b[0;32m/usr/lib/python3.7/queue.py\u001b[0m in \u001b[0;36mget\u001b[0;34m(self, block, timeout)\u001b[0m\n\u001b[1;32m    168\u001b[0m             \u001b[0;32melif\u001b[0m \u001b[0mtimeout\u001b[0m \u001b[0;32mis\u001b[0m \u001b[0;32mNone\u001b[0m\u001b[0;34m:\u001b[0m\u001b[0;34m\u001b[0m\u001b[0;34m\u001b[0m\u001b[0m\n\u001b[1;32m    169\u001b[0m                 \u001b[0;32mwhile\u001b[0m \u001b[0;32mnot\u001b[0m \u001b[0mself\u001b[0m\u001b[0;34m.\u001b[0m\u001b[0m_qsize\u001b[0m\u001b[0;34m(\u001b[0m\u001b[0;34m)\u001b[0m\u001b[0;34m:\u001b[0m\u001b[0;34m\u001b[0m\u001b[0;34m\u001b[0m\u001b[0m\n\u001b[0;32m--> 170\u001b[0;31m                     \u001b[0mself\u001b[0m\u001b[0;34m.\u001b[0m\u001b[0mnot_empty\u001b[0m\u001b[0;34m.\u001b[0m\u001b[0mwait\u001b[0m\u001b[0;34m(\u001b[0m\u001b[0;34m)\u001b[0m\u001b[0;34m\u001b[0m\u001b[0;34m\u001b[0m\u001b[0m\n\u001b[0m\u001b[1;32m    171\u001b[0m             \u001b[0;32melif\u001b[0m \u001b[0mtimeout\u001b[0m \u001b[0;34m<\u001b[0m \u001b[0;36m0\u001b[0m\u001b[0;34m:\u001b[0m\u001b[0;34m\u001b[0m\u001b[0;34m\u001b[0m\u001b[0m\n\u001b[1;32m    172\u001b[0m                 \u001b[0;32mraise\u001b[0m \u001b[0mValueError\u001b[0m\u001b[0;34m(\u001b[0m\u001b[0;34m\"'timeout' must be a non-negative number\"\u001b[0m\u001b[0;34m)\u001b[0m\u001b[0;34m\u001b[0m\u001b[0;34m\u001b[0m\u001b[0m\n",
            "\u001b[0;32m/usr/lib/python3.7/threading.py\u001b[0m in \u001b[0;36mwait\u001b[0;34m(self, timeout)\u001b[0m\n\u001b[1;32m    294\u001b[0m         \u001b[0;32mtry\u001b[0m\u001b[0;34m:\u001b[0m    \u001b[0;31m# restore state no matter what (e.g., KeyboardInterrupt)\u001b[0m\u001b[0;34m\u001b[0m\u001b[0;34m\u001b[0m\u001b[0m\n\u001b[1;32m    295\u001b[0m             \u001b[0;32mif\u001b[0m \u001b[0mtimeout\u001b[0m \u001b[0;32mis\u001b[0m \u001b[0;32mNone\u001b[0m\u001b[0;34m:\u001b[0m\u001b[0;34m\u001b[0m\u001b[0;34m\u001b[0m\u001b[0m\n\u001b[0;32m--> 296\u001b[0;31m                 \u001b[0mwaiter\u001b[0m\u001b[0;34m.\u001b[0m\u001b[0macquire\u001b[0m\u001b[0;34m(\u001b[0m\u001b[0;34m)\u001b[0m\u001b[0;34m\u001b[0m\u001b[0;34m\u001b[0m\u001b[0m\n\u001b[0m\u001b[1;32m    297\u001b[0m                 \u001b[0mgotit\u001b[0m \u001b[0;34m=\u001b[0m \u001b[0;32mTrue\u001b[0m\u001b[0;34m\u001b[0m\u001b[0;34m\u001b[0m\u001b[0m\n\u001b[1;32m    298\u001b[0m             \u001b[0;32melse\u001b[0m\u001b[0;34m:\u001b[0m\u001b[0;34m\u001b[0m\u001b[0;34m\u001b[0m\u001b[0m\n",
            "\u001b[0;31mKeyboardInterrupt\u001b[0m: "
          ]
        }
      ]
    },
    {
      "cell_type": "markdown",
      "metadata": {
        "id": "qHVvcqy24Fi9"
      },
      "source": [
        "Consider: what would you see if there had been an exception within the `get_webdata` function? You could uncomment the `raise` line, above, and re-execute the two cells. What happens? Is there any way to debug the execution to find the root cause of the error?"
      ]
    },
    {
      "cell_type": "markdown",
      "metadata": {
        "id": "g9pkA6y64Fi-"
      },
      "source": [
        "### Example 3: delayed execution"
      ]
    },
    {
      "cell_type": "markdown",
      "metadata": {
        "id": "f5zvi_Oa4Fi-"
      },
      "source": [
        "There are many ways in Python to specify the computation you want to execute, but only run it *later*."
      ]
    },
    {
      "cell_type": "code",
      "metadata": {
        "id": "K98AR0mY4Fi-",
        "outputId": "47b856d4-414a-409c-c6ef-14688e4d861d",
        "colab": {
          "base_uri": "https://localhost:8080/"
        }
      },
      "source": [
        "def add(x, y):\n",
        "    return x + y\n",
        "\n",
        "# Sometimes we defer computations with strings\n",
        "x = 15\n",
        "y = 30\n",
        "z = \"add(x, y)\"\n",
        "eval(z)"
      ],
      "execution_count": 48,
      "outputs": [
        {
          "output_type": "execute_result",
          "data": {
            "text/plain": [
              "45"
            ]
          },
          "metadata": {
            "tags": []
          },
          "execution_count": 48
        }
      ]
    },
    {
      "cell_type": "code",
      "metadata": {
        "id": "6pho7_HL4Fi-",
        "outputId": "3209b33f-6f8a-44f8-9a7b-45e3a6fd2d88",
        "colab": {
          "base_uri": "https://localhost:8080/"
        }
      },
      "source": [
        "# we can use lambda or other \"closure\"\n",
        "x = 15\n",
        "y = 30\n",
        "z = lambda: add(x, y)\n",
        "z()"
      ],
      "execution_count": 49,
      "outputs": [
        {
          "output_type": "execute_result",
          "data": {
            "text/plain": [
              "45"
            ]
          },
          "metadata": {
            "tags": []
          },
          "execution_count": 49
        }
      ]
    },
    {
      "cell_type": "code",
      "metadata": {
        "id": "dWtW6M9Z4Fi-",
        "outputId": "8ce9c974-211c-4f40-a060-1a1a5d8330fc",
        "colab": {
          "base_uri": "https://localhost:8080/"
        }
      },
      "source": [
        "# A very similar thing happens in functools.partial\n",
        "\n",
        "import functools\n",
        "z = functools.partial(add, x, y)\n",
        "z()"
      ],
      "execution_count": 50,
      "outputs": [
        {
          "output_type": "execute_result",
          "data": {
            "text/plain": [
              "45"
            ]
          },
          "metadata": {
            "tags": []
          },
          "execution_count": 50
        }
      ]
    },
    {
      "cell_type": "code",
      "metadata": {
        "id": "24H9okKq4Fi-"
      },
      "source": [
        "# Python generators are delayed execution by default\n",
        "# Many Python functions expect such iterable objects\n",
        "\n",
        "def gen():\n",
        "    res = x\n",
        "    yield res\n",
        "    res += y\n",
        "    yield res\n",
        "\n",
        "g = gen()"
      ],
      "execution_count": 51,
      "outputs": []
    },
    {
      "cell_type": "code",
      "metadata": {
        "id": "ODzYtIPX4Fi-",
        "outputId": "14d743de-107d-4175-ff45-d7910360ff14",
        "colab": {
          "base_uri": "https://localhost:8080/",
          "height": 197
        }
      },
      "source": [
        "# run once: we get one value and execution halts within the generator\n",
        "# run again and the execution completes\n",
        "next(g)"
      ],
      "execution_count": 54,
      "outputs": [
        {
          "output_type": "error",
          "ename": "StopIteration",
          "evalue": "ignored",
          "traceback": [
            "\u001b[0;31m---------------------------------------------------------------------------\u001b[0m",
            "\u001b[0;31mStopIteration\u001b[0m                             Traceback (most recent call last)",
            "\u001b[0;32m<ipython-input-54-6eff38a80fb9>\u001b[0m in \u001b[0;36m<module>\u001b[0;34m()\u001b[0m\n\u001b[1;32m      1\u001b[0m \u001b[0;31m# run once: we get one value and execution halts within the generator\u001b[0m\u001b[0;34m\u001b[0m\u001b[0;34m\u001b[0m\u001b[0;34m\u001b[0m\u001b[0m\n\u001b[1;32m      2\u001b[0m \u001b[0;31m# run again and the execution completes\u001b[0m\u001b[0;34m\u001b[0m\u001b[0;34m\u001b[0m\u001b[0;34m\u001b[0m\u001b[0m\n\u001b[0;32m----> 3\u001b[0;31m \u001b[0mnext\u001b[0m\u001b[0;34m(\u001b[0m\u001b[0mg\u001b[0m\u001b[0;34m)\u001b[0m\u001b[0;34m\u001b[0m\u001b[0;34m\u001b[0m\u001b[0m\n\u001b[0m",
            "\u001b[0;31mStopIteration\u001b[0m: "
          ]
        }
      ]
    },
    {
      "cell_type": "markdown",
      "metadata": {
        "id": "LwfOfpdQ4Fi_"
      },
      "source": [
        "### Dask graphs"
      ]
    },
    {
      "cell_type": "markdown",
      "metadata": {
        "id": "d0RjVTnT4Fi_"
      },
      "source": [
        "Any Dask object, such as `total`, above, has an attribute which describes the calculations necessary to produce that result. Indeed, this is exactly the graph that we have been talking about, which can be visualized. We see that it is a simple dictionary, in which the keys are unique task identifiers, and the values are the functions and inputs for calculation.\n",
        "\n",
        "`delayed` is a handy mechanism for creating the Dask graph, but the adventurous may wish to play with the full fexibility afforded by building the graph dictionaries directly. Detailed information can be found [here](http://dask.pydata.org/en/latest/graphs.html)."
      ]
    },
    {
      "cell_type": "code",
      "metadata": {
        "id": "5AJ9XB3S4Fi_",
        "outputId": "82bce3dc-8386-4edc-991a-13a984940c8f",
        "colab": {
          "base_uri": "https://localhost:8080/"
        }
      },
      "source": [
        "total.dask"
      ],
      "execution_count": 55,
      "outputs": [
        {
          "output_type": "execute_result",
          "data": {
            "text/plain": [
              "<dask.highlevelgraph.HighLevelGraph at 0x7fe44b6fd7d0>"
            ]
          },
          "metadata": {
            "tags": []
          },
          "execution_count": 55
        }
      ]
    },
    {
      "cell_type": "code",
      "metadata": {
        "id": "uERs4FBt4Fi_",
        "outputId": "7a631e5e-70c1-474f-a3d7-e2b70bc942b9",
        "colab": {
          "base_uri": "https://localhost:8080/"
        }
      },
      "source": [
        "dict(total.dask)"
      ],
      "execution_count": 56,
      "outputs": [
        {
          "output_type": "execute_result",
          "data": {
            "text/plain": [
              "{'len-a8659905-90c3-4093-87f6-ef4b4505e894': (<function len>,\n",
              "  'read_csv-68b2e847-6d82-4a72-812e-48091b19ac3a'),\n",
              " 'len-de2f749e-560d-46ab-adf6-5943f3b0fe29': (<function len>,\n",
              "  'read_csv-14634dbd-7350-4ea4-9e5a-8bfc6b67766d'),\n",
              " 'len-f8a2ba72-265e-4409-aa88-f6dde447fd9d': (<function len>,\n",
              "  'read_csv-2fd9c81a-47b2-4358-a2c7-58bcd9399270'),\n",
              " 'read_csv-14634dbd-7350-4ea4-9e5a-8bfc6b67766d': (<function pandas.io.parsers.read_csv>,\n",
              "  'data/accounts.0.csv'),\n",
              " 'read_csv-2fd9c81a-47b2-4358-a2c7-58bcd9399270': (<function pandas.io.parsers.read_csv>,\n",
              "  'data/accounts.1.csv'),\n",
              " 'read_csv-68b2e847-6d82-4a72-812e-48091b19ac3a': (<function pandas.io.parsers.read_csv>,\n",
              "  'data/accounts.2.csv'),\n",
              " 'sum-389b6246-db5f-4ab6-8d4c-39a7b049c63a': (<function sum>,\n",
              "  ['len-de2f749e-560d-46ab-adf6-5943f3b0fe29',\n",
              "   'len-f8a2ba72-265e-4409-aa88-f6dde447fd9d',\n",
              "   'len-a8659905-90c3-4093-87f6-ef4b4505e894'])}"
            ]
          },
          "metadata": {
            "tags": []
          },
          "execution_count": 56
        }
      ]
    }
  ]
}