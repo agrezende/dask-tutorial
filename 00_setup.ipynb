{
  "nbformat": 4,
  "nbformat_minor": 0,
  "metadata": {
    "kernelspec": {
      "display_name": "Python 3",
      "language": "python",
      "name": "python3"
    },
    "language_info": {
      "codemirror_mode": {
        "name": "ipython",
        "version": 3
      },
      "file_extension": ".py",
      "mimetype": "text/x-python",
      "name": "python",
      "nbconvert_exporter": "python",
      "pygments_lexer": "ipython3",
      "version": "3.8.6"
    },
    "colab": {
      "name": "00_setup.ipynb",
      "private_outputs": true,
      "provenance": [],
      "toc_visible": true,
      "include_colab_link": true
    }
  },
  "cells": [
    {
      "cell_type": "markdown",
      "metadata": {
        "id": "view-in-github",
        "colab_type": "text"
      },
      "source": [
        "<a href=\"https://colab.research.google.com/github/agrezende/dask-tutorial/blob/develop/00_setup.ipynb\" target=\"_parent\"><img src=\"https://colab.research.google.com/assets/colab-badge.svg\" alt=\"Open In Colab\"/></a>"
      ]
    },
    {
      "cell_type": "markdown",
      "metadata": {
        "id": "SJCplTxBxIDW"
      },
      "source": [
        "# Setup inicial para utilização do Google Colab\n",
        "\n",
        "Para a utilização dos notebooks no Google Colab, algumas configurações são necessárias.\n",
        "\n",
        "Reproduzir os comandos desse notebook em todos aqueles que for necessário alguma preparação.\n",
        "\n",
        "Para utilização em ambiente Jupyter Lab, outros ajustes são necessários."
      ]
    },
    {
      "cell_type": "code",
      "metadata": {
        "id": "hRRtqd0bBYiC"
      },
      "source": [
        "# Devido a varios erros encontrados, eh necessario realizar o upgrade de versao do pacotes:\r\n",
        "# dask, distributed\r\n",
        "# distributed==1.25.3\r\n",
        "# cloudpickle (sera atualizado como dependencia)\r\n",
        "# Em 16/03/2021:\r\n",
        "# < cloudpickle==1.3.0\r\n",
        "# > cloudpickle==1.6.0\r\n",
        "# < dask==2.12.0\r\n",
        "# > dask==2021.3.0\r\n",
        "# < distributed==1.25.3\r\n",
        "# > distributed==2021.3.0\r\n",
        "\r\n",
        "!pip freeze > antes.txt\r\n",
        "!pip install dask distributed --upgrade\r\n",
        "!pip freeze > depois.txt\r\n",
        "!echo Alteracoes:\r\n",
        "# !diff antes.txt depois.txt && echo a || echo b\r\n",
        "!diff --side-by-side --suppress-common-lines antes.txt depois.txt && echo Nao houve alteracoes\r\n",
        "!rm antes.txt depois.txt"
      ],
      "execution_count": null,
      "outputs": []
    },
    {
      "cell_type": "code",
      "metadata": {
        "execution": {
          "iopub.execute_input": "2021-02-02T03:56:33.012871Z",
          "iopub.status.busy": "2021-02-02T03:56:33.010116Z",
          "iopub.status.idle": "2021-02-02T03:56:34.938741Z",
          "shell.execute_reply": "2021-02-02T03:56:34.938155Z"
        },
        "id": "PH2LmJBCxIDc"
      },
      "source": [
        "from dask.distributed import Client\n",
        "\n",
        "client = Client(n_workers=4)\n",
        "\n",
        "# client = Client(processes=False, threads_per_worker=4, n_workers=1, memory_limit='2GB', scheduler_port=8780)\n",
        "\n",
        "client"
      ],
      "execution_count": null,
      "outputs": []
    },
    {
      "cell_type": "code",
      "metadata": {
        "id": "AGG2-B1lEPvD"
      },
      "source": [
        "import os\r\n",
        "os.chdir('/content')\r\n",
        "!pwd\r\n",
        "!git clone --single-branch --branch develop https://github.com/agrezende/dask-tutorial.git\r\n",
        "os.chdir('/content/dask-tutorial')\r\n",
        "!pwd"
      ],
      "execution_count": null,
      "outputs": []
    },
    {
      "cell_type": "code",
      "metadata": {
        "execution": {
          "iopub.execute_input": "2021-02-02T03:57:04.031852Z",
          "iopub.status.busy": "2021-02-02T03:57:04.031387Z",
          "iopub.status.idle": "2021-02-02T03:57:04.397705Z",
          "shell.execute_reply": "2021-02-02T03:57:04.398120Z"
        },
        "id": "qGIZUsjDxIDl"
      },
      "source": [
        "%run prep.py -d flights"
      ],
      "execution_count": null,
      "outputs": []
    },
    {
      "cell_type": "code",
      "metadata": {
        "execution": {
          "iopub.execute_input": "2021-02-02T03:57:04.467074Z",
          "iopub.status.busy": "2021-02-02T03:57:04.466590Z",
          "iopub.status.idle": "2021-02-02T03:57:04.468751Z",
          "shell.execute_reply": "2021-02-02T03:57:04.468360Z"
        },
        "id": "Cc5x_MplxIDn"
      },
      "source": [
        "from glob import glob\n",
        "# filenames = sorted(glob(os.path.join('data', 'nycflights', '*.csv')))\n",
        "\n",
        "# Para funcionar corretamente com a leitura atradada do dask, eh necessario o path completo:\n",
        "filenames = sorted(glob(os.path.join('/content/dask-tutorial/data', 'nycflights', '*.csv')))"
      ],
      "execution_count": null,
      "outputs": []
    },
    {
      "cell_type": "code",
      "metadata": {
        "id": "gp2AektIUA3x"
      },
      "source": [
        "import os\r\n",
        "\r\n",
        "os.path.join('/content/dask-tutorial/data', 'nycflights', '*.csv')"
      ],
      "execution_count": null,
      "outputs": []
    }
  ]
}