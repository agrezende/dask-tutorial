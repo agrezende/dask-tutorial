{
  "nbformat": 4,
  "nbformat_minor": 0,
  "metadata": {
    "kernelspec": {
      "display_name": "Python 3",
      "language": "python",
      "name": "python3"
    },
    "language_info": {
      "codemirror_mode": {
        "name": "ipython",
        "version": 3
      },
      "file_extension": ".py",
      "mimetype": "text/x-python",
      "name": "python",
      "nbconvert_exporter": "python",
      "pygments_lexer": "ipython3",
      "version": "3.8.6"
    },
    "colab": {
      "name": "00_setup.ipynb",
      "provenance": [],
      "toc_visible": true,
      "include_colab_link": true
    }
  },
  "cells": [
    {
      "cell_type": "markdown",
      "metadata": {
        "id": "view-in-github",
        "colab_type": "text"
      },
      "source": [
        "<a href=\"https://colab.research.google.com/github/agrezende/dask-tutorial/blob/develop/00_setup.ipynb\" target=\"_parent\"><img src=\"https://colab.research.google.com/assets/colab-badge.svg\" alt=\"Open In Colab\"/></a>"
      ]
    },
    {
      "cell_type": "markdown",
      "metadata": {
        "id": "SJCplTxBxIDW"
      },
      "source": [
        "# Setup inicial para utilização do Google Colab\n",
        "\n",
        "Para a utilização dos notebooks no Google Colab, algumas configurações são necessárias.\n",
        "\n",
        "Reproduzir os comandos desse notebook em todos aqueles que for necessário alguma preparação.\n",
        "\n",
        "Para utilização em ambiente Jupyter Lab, outros ajustes são necessários."
      ]
    },
    {
      "cell_type": "code",
      "metadata": {
        "colab": {
          "base_uri": "https://localhost:8080/"
        },
        "id": "hRRtqd0bBYiC",
        "outputId": "16c7069a-dd7c-43e8-b4b8-73f2e05db410"
      },
      "source": [
        "# Devido a varios erros encontrados, eh necessario realizar o upgrade de versao do pacotes:\r\n",
        "# dask, distributed\r\n",
        "# distributed==1.25.3\r\n",
        "# cloudpickle (sera atualizado como dependencia)\r\n",
        "# Em 16/03/2021:\r\n",
        "# < cloudpickle==1.3.0\r\n",
        "# > cloudpickle==1.6.0\r\n",
        "# < dask==2.12.0\r\n",
        "# > dask==2021.3.0\r\n",
        "# < distributed==1.25.3\r\n",
        "# > distributed==2021.3.0\r\n",
        "\r\n",
        "!pip freeze > antes.txt\r\n",
        "!pip install dask distributed --upgrade\r\n",
        "!pip freeze > depois.txt\r\n",
        "!echo Alteracoes:\r\n",
        "# !diff antes.txt depois.txt && echo a || echo b\r\n",
        "!diff --side-by-side --suppress-common-lines antes.txt depois.txt && echo Nao houve alteracoes\r\n",
        "!rm antes.txt depois.txt"
      ],
      "execution_count": null,
      "outputs": [
        {
          "output_type": "stream",
          "text": [
            "Requirement already up-to-date: dask in /usr/local/lib/python3.7/dist-packages (2021.3.0)\n",
            "Requirement already up-to-date: distributed in /usr/local/lib/python3.7/dist-packages (2021.3.0)\n",
            "Requirement already satisfied, skipping upgrade: pyyaml in /usr/local/lib/python3.7/dist-packages (from dask) (3.13)\n",
            "Requirement already satisfied, skipping upgrade: psutil>=5.0 in /usr/local/lib/python3.7/dist-packages (from distributed) (5.4.8)\n",
            "Requirement already satisfied, skipping upgrade: sortedcontainers!=2.0.0,!=2.0.1 in /usr/local/lib/python3.7/dist-packages (from distributed) (2.3.0)\n",
            "Requirement already satisfied, skipping upgrade: setuptools in /usr/local/lib/python3.7/dist-packages (from distributed) (54.0.0)\n",
            "Requirement already satisfied, skipping upgrade: tornado>=5; python_version < \"3.8\" in /usr/local/lib/python3.7/dist-packages (from distributed) (5.1.1)\n",
            "Requirement already satisfied, skipping upgrade: cloudpickle>=1.5.0 in /usr/local/lib/python3.7/dist-packages (from distributed) (1.6.0)\n",
            "Requirement already satisfied, skipping upgrade: toolz>=0.8.2 in /usr/local/lib/python3.7/dist-packages (from distributed) (0.11.1)\n",
            "Requirement already satisfied, skipping upgrade: msgpack>=0.6.0 in /usr/local/lib/python3.7/dist-packages (from distributed) (1.0.2)\n",
            "Requirement already satisfied, skipping upgrade: tblib>=1.6.0 in /usr/local/lib/python3.7/dist-packages (from distributed) (1.7.0)\n",
            "Requirement already satisfied, skipping upgrade: zict>=0.1.3 in /usr/local/lib/python3.7/dist-packages (from distributed) (2.0.0)\n",
            "Requirement already satisfied, skipping upgrade: click>=6.6 in /usr/local/lib/python3.7/dist-packages (from distributed) (7.1.2)\n",
            "Requirement already satisfied, skipping upgrade: heapdict in /usr/local/lib/python3.7/dist-packages (from zict>=0.1.3->distributed) (1.0.1)\n",
            "Alteracoes:\n",
            "Nao houve alteracoes\n"
          ],
          "name": "stdout"
        }
      ]
    },
    {
      "cell_type": "code",
      "metadata": {
        "execution": {
          "iopub.execute_input": "2021-02-02T03:56:33.012871Z",
          "iopub.status.busy": "2021-02-02T03:56:33.010116Z",
          "iopub.status.idle": "2021-02-02T03:56:34.938741Z",
          "shell.execute_reply": "2021-02-02T03:56:34.938155Z"
        },
        "colab": {
          "base_uri": "https://localhost:8080/",
          "height": 186
        },
        "id": "PH2LmJBCxIDc",
        "outputId": "863241fd-7d2e-49b0-ca08-633443762e83"
      },
      "source": [
        "from dask.distributed import Client\n",
        "\n",
        "client = Client(n_workers=4)\n",
        "\n",
        "# client = Client(processes=False, threads_per_worker=4, n_workers=1, memory_limit='2GB', scheduler_port=8780)\n",
        "\n",
        "client"
      ],
      "execution_count": null,
      "outputs": [
        {
          "output_type": "stream",
          "text": [
            "/usr/local/lib/python3.7/dist-packages/distributed/node.py:155: UserWarning: Port 8787 is already in use.\n",
            "Perhaps you already have a cluster running?\n",
            "Hosting the HTTP server on port 34639 instead\n",
            "  http_address[\"port\"], self.http_server.port\n"
          ],
          "name": "stderr"
        },
        {
          "output_type": "execute_result",
          "data": {
            "text/html": [
              "<table style=\"border: 2px solid white;\">\n",
              "<tr>\n",
              "<td style=\"vertical-align: top; border: 0px solid white\">\n",
              "<h3 style=\"text-align: left;\">Client</h3>\n",
              "<ul style=\"text-align: left; list-style: none; margin: 0; padding: 0;\">\n",
              "  <li><b>Scheduler: </b>tcp://127.0.0.1:41825</li>\n",
              "  <li><b>Dashboard: </b><a href='http://127.0.0.1:34639/status' target='_blank'>http://127.0.0.1:34639/status</a></li>\n",
              "</ul>\n",
              "</td>\n",
              "<td style=\"vertical-align: top; border: 0px solid white\">\n",
              "<h3 style=\"text-align: left;\">Cluster</h3>\n",
              "<ul style=\"text-align: left; list-style:none; margin: 0; padding: 0;\">\n",
              "  <li><b>Workers: </b>4</li>\n",
              "  <li><b>Cores: </b>4</li>\n",
              "  <li><b>Memory: </b>13.65 GB</li>\n",
              "</ul>\n",
              "</td>\n",
              "</tr>\n",
              "</table>"
            ],
            "text/plain": [
              "<Client: 'tcp://127.0.0.1:41825' processes=4 threads=4, memory=13.65 GB>"
            ]
          },
          "metadata": {
            "tags": []
          },
          "execution_count": 17
        }
      ]
    },
    {
      "cell_type": "code",
      "metadata": {
        "colab": {
          "base_uri": "https://localhost:8080/"
        },
        "id": "TWxy3aJcECO8",
        "outputId": "f31f6520-4257-473a-b259-3a5136bed88a"
      },
      "source": [
        "!git clone --single-branch --branch develop https://github.com/agrezende/dask-tutorial.git"
      ],
      "execution_count": null,
      "outputs": [
        {
          "output_type": "stream",
          "text": [
            "Cloning into 'dask-tutorial'...\n",
            "remote: Enumerating objects: 221, done.\u001b[K\n",
            "remote: Counting objects: 100% (221/221), done.\u001b[K\n",
            "remote: Compressing objects: 100% (112/112), done.\u001b[K\n",
            "remote: Total 2673 (delta 130), reused 162 (delta 106), pack-reused 2452\u001b[K\n",
            "Receiving objects: 100% (2673/2673), 84.09 MiB | 24.24 MiB/s, done.\n",
            "Resolving deltas: 100% (1720/1720), done.\n"
          ],
          "name": "stdout"
        }
      ]
    },
    {
      "cell_type": "code",
      "metadata": {
        "colab": {
          "base_uri": "https://localhost:8080/"
        },
        "id": "AGG2-B1lEPvD",
        "outputId": "65b1b302-f600-4faf-8d8c-d56a0c7720d4"
      },
      "source": [
        "import os\r\n",
        "!pwd\r\n",
        "os.chdir('/content/dask-tutorial')\r\n",
        "!pwd"
      ],
      "execution_count": null,
      "outputs": [
        {
          "output_type": "stream",
          "text": [
            "/content\n",
            "/content/dask-tutorial\n"
          ],
          "name": "stdout"
        }
      ]
    },
    {
      "cell_type": "code",
      "metadata": {
        "execution": {
          "iopub.execute_input": "2021-02-02T03:57:04.031852Z",
          "iopub.status.busy": "2021-02-02T03:57:04.031387Z",
          "iopub.status.idle": "2021-02-02T03:57:04.397705Z",
          "shell.execute_reply": "2021-02-02T03:57:04.398120Z"
        },
        "colab": {
          "base_uri": "https://localhost:8080/"
        },
        "id": "qGIZUsjDxIDl",
        "outputId": "94730e7c-a1cd-4952-ff58-8d6072e62501"
      },
      "source": [
        "%run prep.py -d flights"
      ],
      "execution_count": null,
      "outputs": [
        {
          "output_type": "stream",
          "text": [
            "- Downloading NYC Flights dataset... done\n",
            "- Extracting flight data... done\n",
            "- Creating json data... done\n",
            "** Created flights dataset! in 5.04s**\n"
          ],
          "name": "stdout"
        }
      ]
    },
    {
      "cell_type": "code",
      "metadata": {
        "execution": {
          "iopub.execute_input": "2021-02-02T03:57:04.467074Z",
          "iopub.status.busy": "2021-02-02T03:57:04.466590Z",
          "iopub.status.idle": "2021-02-02T03:57:04.468751Z",
          "shell.execute_reply": "2021-02-02T03:57:04.468360Z"
        },
        "id": "Cc5x_MplxIDn"
      },
      "source": [
        "from glob import glob\n",
        "# filenames = sorted(glob(os.path.join('data', 'nycflights', '*.csv')))\n",
        "\n",
        "# Para funcionar corretamente com a leitura atradada, eh necessario o path completo:\n",
        "filenames = sorted(glob(os.path.join('/content/dask-tutorial/data', 'nycflights', '*.csv')))"
      ],
      "execution_count": null,
      "outputs": []
    }
  ]
}